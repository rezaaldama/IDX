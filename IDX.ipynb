{
 "cells": [
  {
   "cell_type": "code",
   "execution_count": 1,
   "id": "5aea62a0",
   "metadata": {},
   "outputs": [],
   "source": [
    "import pandas as pd\n",
    "import matplotlib.pyplot as plt\n",
    "import numpy as np\n",
    "\n",
    "from scipy.stats import norm"
   ]
  },
  {
   "cell_type": "code",
   "execution_count": 2,
   "id": "67eaac52",
   "metadata": {},
   "outputs": [],
   "source": [
    "pd.set_option('display.float_format', lambda x: '%.f' % x)\n",
    "pd.set_option('display.max_rows', None)\n",
    "pd.set_option('display.max_columns', None)"
   ]
  },
  {
   "cell_type": "markdown",
   "id": "17999549",
   "metadata": {},
   "source": [
    "### 1. Problem Definition"
   ]
  },
  {
   "cell_type": "markdown",
   "id": "1941b2f8",
   "metadata": {},
   "source": [
    "To predict stock price appreciation based on financial data (fundamental approach) for Indonesian public companies from 2020 until 2023."
   ]
  },
  {
   "cell_type": "markdown",
   "id": "2b8972a2",
   "metadata": {},
   "source": [
    "### 2. Data Collection"
   ]
  },
  {
   "cell_type": "markdown",
   "id": "619285a4",
   "metadata": {},
   "source": [
    "#### 2.1. Target variables"
   ]
  },
  {
   "cell_type": "markdown",
   "id": "55032f81",
   "metadata": {},
   "source": [
    "The first dataset contains stock price appreciation data of Indonesian public companies from 2021 until 2023."
   ]
  },
  {
   "cell_type": "code",
   "execution_count": 3,
   "id": "ba40adf0",
   "metadata": {},
   "outputs": [],
   "source": [
    "# WIP"
   ]
  },
  {
   "cell_type": "markdown",
   "id": "11a3be55",
   "metadata": {},
   "source": [
    "#### 2.2. Predictor variables"
   ]
  },
  {
   "cell_type": "markdown",
   "id": "27ae8fab",
   "metadata": {},
   "source": [
    "The second dataset contains financial data of Indonesian public companies from 2020 until 2023."
   ]
  },
  {
   "cell_type": "code",
   "execution_count": 4,
   "id": "58a8d8ed",
   "metadata": {},
   "outputs": [],
   "source": [
    "df = pd.read_csv('combined_financial_data_idx.csv')"
   ]
  },
  {
   "cell_type": "code",
   "execution_count": 5,
   "id": "ce387fdf",
   "metadata": {},
   "outputs": [
    {
     "data": {
      "text/html": [
       "<div>\n",
       "<style scoped>\n",
       "    .dataframe tbody tr th:only-of-type {\n",
       "        vertical-align: middle;\n",
       "    }\n",
       "\n",
       "    .dataframe tbody tr th {\n",
       "        vertical-align: top;\n",
       "    }\n",
       "\n",
       "    .dataframe thead th {\n",
       "        text-align: right;\n",
       "    }\n",
       "</style>\n",
       "<table border=\"1\" class=\"dataframe\">\n",
       "  <thead>\n",
       "    <tr style=\"text-align: right;\">\n",
       "      <th></th>\n",
       "      <th>symbol</th>\n",
       "      <th>account</th>\n",
       "      <th>type</th>\n",
       "      <th>2020</th>\n",
       "      <th>2021</th>\n",
       "      <th>2022</th>\n",
       "      <th>2023</th>\n",
       "    </tr>\n",
       "  </thead>\n",
       "  <tbody>\n",
       "    <tr>\n",
       "      <th>0</th>\n",
       "      <td>AALI</td>\n",
       "      <td>Accounts Payable</td>\n",
       "      <td>BS</td>\n",
       "      <td>770264000000</td>\n",
       "      <td>1026717000000</td>\n",
       "      <td>1224423000000</td>\n",
       "      <td>842064000000</td>\n",
       "    </tr>\n",
       "    <tr>\n",
       "      <th>1</th>\n",
       "      <td>AALI</td>\n",
       "      <td>Accounts Receivable</td>\n",
       "      <td>BS</td>\n",
       "      <td>765849000000</td>\n",
       "      <td>458135000000</td>\n",
       "      <td>848770000000</td>\n",
       "      <td>674487000000</td>\n",
       "    </tr>\n",
       "    <tr>\n",
       "      <th>2</th>\n",
       "      <td>AALI</td>\n",
       "      <td>Accumulated Depreciation</td>\n",
       "      <td>BS</td>\n",
       "      <td>-10920948000000</td>\n",
       "      <td>-12133813000000</td>\n",
       "      <td>-13303749000000</td>\n",
       "      <td>-14436847000000</td>\n",
       "    </tr>\n",
       "    <tr>\n",
       "      <th>3</th>\n",
       "      <td>AALI</td>\n",
       "      <td>Additional Paid In Capital</td>\n",
       "      <td>BS</td>\n",
       "      <td>3878995000000</td>\n",
       "      <td>3878995000000</td>\n",
       "      <td>3878995000000</td>\n",
       "      <td>3878995000000</td>\n",
       "    </tr>\n",
       "    <tr>\n",
       "      <th>4</th>\n",
       "      <td>AALI</td>\n",
       "      <td>Allowance For Doubtful Accounts Receivable</td>\n",
       "      <td>BS</td>\n",
       "      <td>-24261000000</td>\n",
       "      <td>-24543000000</td>\n",
       "      <td>-27057000000</td>\n",
       "      <td>-26516000000</td>\n",
       "    </tr>\n",
       "  </tbody>\n",
       "</table>\n",
       "</div>"
      ],
      "text/plain": [
       "  symbol                                     account type            2020  \\\n",
       "0   AALI                            Accounts Payable   BS    770264000000   \n",
       "1   AALI                         Accounts Receivable   BS    765849000000   \n",
       "2   AALI                    Accumulated Depreciation   BS -10920948000000   \n",
       "3   AALI                  Additional Paid In Capital   BS   3878995000000   \n",
       "4   AALI  Allowance For Doubtful Accounts Receivable   BS    -24261000000   \n",
       "\n",
       "             2021            2022            2023  \n",
       "0   1026717000000   1224423000000    842064000000  \n",
       "1    458135000000    848770000000    674487000000  \n",
       "2 -12133813000000 -13303749000000 -14436847000000  \n",
       "3   3878995000000   3878995000000   3878995000000  \n",
       "4    -24543000000    -27057000000    -26516000000  "
      ]
     },
     "execution_count": 5,
     "metadata": {},
     "output_type": "execute_result"
    }
   ],
   "source": [
    "df.head(5)"
   ]
  },
  {
   "cell_type": "markdown",
   "id": "a8161fec",
   "metadata": {},
   "source": [
    "### 3. Data Preprocessing"
   ]
  },
  {
   "cell_type": "markdown",
   "id": "78830caf",
   "metadata": {},
   "source": [
    "#### 3.1. Missing Values"
   ]
  },
  {
   "cell_type": "code",
   "execution_count": 6,
   "id": "c19adfa0",
   "metadata": {
    "scrolled": true
   },
   "outputs": [
    {
     "data": {
      "text/plain": [
       "18057"
      ]
     },
     "execution_count": 6,
     "metadata": {},
     "output_type": "execute_result"
    }
   ],
   "source": [
    "df.isnull().sum().max()"
   ]
  },
  {
   "cell_type": "markdown",
   "id": "d64bba29",
   "metadata": {},
   "source": [
    "#### 3.2. Skewed Distribution"
   ]
  },
  {
   "cell_type": "code",
   "execution_count": 7,
   "id": "4c596c96",
   "metadata": {},
   "outputs": [],
   "source": [
    "# WIP"
   ]
  },
  {
   "cell_type": "markdown",
   "id": "da8784f3",
   "metadata": {},
   "source": [
    "#### 3.3. Outliers"
   ]
  },
  {
   "cell_type": "code",
   "execution_count": 8,
   "id": "0bb1b45e",
   "metadata": {},
   "outputs": [],
   "source": [
    "# WIP"
   ]
  },
  {
   "cell_type": "markdown",
   "id": "e6d4ced5",
   "metadata": {},
   "source": [
    "### 4. Exploratory Data Analysis"
   ]
  },
  {
   "cell_type": "markdown",
   "id": "5bd73562",
   "metadata": {},
   "source": [
    "### 4.1. Target Variables"
   ]
  },
  {
   "cell_type": "code",
   "execution_count": 9,
   "id": "44a7abcb",
   "metadata": {},
   "outputs": [],
   "source": [
    "# WIP\n",
    "\n",
    "# Future stock price:\n",
    "# 1 April 2021 - 1 April 2022; to predict the effect of AR 2021 (fundamental) on stock price\n",
    "# 1 April 2022 - 1 April 2023; to predict the effect of AR 2022 (fundamental) on stock price\n",
    "# 1 April 2023 - 1 April 2024; to predict the effect of AR 2023 (fundamental) on stock price\n",
    "\n",
    "# Future dividends\n",
    "\n",
    "# Future earnings"
   ]
  },
  {
   "cell_type": "markdown",
   "id": "5f3222ca",
   "metadata": {},
   "source": [
    "### 4.2. Predictor Variables"
   ]
  },
  {
   "cell_type": "code",
   "execution_count": 10,
   "id": "c90e94f4",
   "metadata": {},
   "outputs": [],
   "source": [
    "ticker_symbols = df['symbol'].unique().tolist()"
   ]
  },
  {
   "cell_type": "code",
   "execution_count": 11,
   "id": "01203a33",
   "metadata": {
    "scrolled": true
   },
   "outputs": [
    {
     "name": "stdout",
     "output_type": "stream",
     "text": [
      "['AALI', 'ABBA', 'ABDA', 'ABMM', 'ACES', 'ACST', 'ADCP', 'ADES', 'ADHI', 'ADMF', 'ADMG', 'ADMR', 'ADRO', 'AGII', 'AGRO', 'AGRS', 'AISA', 'AKPI', 'AKRA', 'ALDO', 'ALII', 'ALMI', 'AMAG', 'AMAN', 'AMAR', 'AMFG', 'AMMN', 'AMOR', 'AMRT', 'ANDI', 'ANJT', 'ANTM', 'APEX', 'APIC', 'APLN', 'ARCI', 'ARGO', 'ARII', 'ARKA', 'ARKO', 'ARMY', 'ARNA', 'ARTI', 'ARTO', 'ASDM', 'ASGR', 'ASII', 'ASLC', 'ASMI', 'ASRI', 'ASRM', 'ASSA', 'ATIC', 'ATLA', 'AUTO', 'AVIA', 'BABP', 'BACA', 'BAJA', 'BALI', 'BANK', 'BAPA', 'BATA', 'BBCA', 'BBHI', 'BBKP', 'BBLD', 'BBMD', 'BBNI', 'BBRI', 'BBRM', 'BBSI', 'BBTN', 'BBYB', 'BCAP', 'BCIC', 'BCIP', 'BDKR', 'BDMN', 'BEBS', 'BEEF', 'BEKS', 'BELI', 'BEST', 'BFIN', 'BGTG', 'BHAT', 'BHIT', 'BINA', 'BIPI', 'BIPP', 'BIRD', 'BISI', 'BJBR', 'BJTM', 'BKDP', 'BKSL', 'BKSW', 'BLTA', 'BLTZ', 'BMAS', 'BMHS', 'BMRI', 'BMSR', 'BMTR', 'BNBA', 'BNBR', 'BNGA', 'BNII', 'BNLI', 'BOGA', 'BOLA', 'BOLT', 'BOSS', 'BPFI', 'BPII', 'BRAM', 'BREN', 'BRIS', 'BRMS', 'BRNA', 'BRPT', 'BSBK', 'BSDE', 'BSIM', 'BSSR', 'BSWD', 'BTEK', 'BTEL', 'BTPN', 'BTPS', 'BUAH', 'BUDI', 'BUKA', 'BUKK', 'BULL', 'BUMI', 'BUVA', 'BVIC', 'BWPT', 'BYAN', 'CAMP', 'CARE', 'CARS', 'CASA', 'CASS', 'CBUT', 'CEKA', 'CENT', 'CFIN', 'CGAS', 'CHIP', 'CITA', 'CITY', 'CLAY', 'CLEO', 'CLPI', 'CMNP', 'CMNT', 'CMPP', 'CMRY', 'CNKO', 'CNMA', 'CPIN', 'CPRO', 'CSAP', 'CSMI', 'CTBN', 'CTRA', 'CTTH', 'CUAN', 'CYBR', 'DART', 'DCII', 'DEAL', 'DEPO', 'DEWA', 'DFAM', 'DGIK', 'DILD', 'DIVA', 'DKFT', 'DLTA', 'DMAS', 'DMMX', 'DMND', 'DNAR', 'DNET', 'DOID', 'DOOH', 'DPUM', 'DRMA', 'DSNG', 'DSSA', 'DUTI', 'DVLA', 'DWGL', 'DYAN', 'ECII', 'EDGE', 'ELPI', 'ELSA', 'ELTY', 'EMDE', 'EMTK', 'ENAK', 'ENRG', 'ENVY', 'EPMT', 'ERAA', 'ERAL', 'ESSA', 'ETWA', 'EXCL', 'FAPA', 'FAST', 'FASW', 'FILM', 'FIRE', 'FISH', 'FMII', 'FPNI', 'FREN', 'FUJI', 'GAMA', 'GDST', 'GEMA', 'GEMS', 'GGRM', 'GGRP', 'GIAA', 'GJTL', 'GMFI', 'GMTD', 'GOLL', 'GOOD', 'GOTO', 'GPRA', 'GSMF', 'GTBO', 'GTSI', 'GWSA', 'GZCO', 'HATM', 'HDFA', 'HDTX', 'HEAL', 'HELI', 'HERO', 'HEXA', 'HILL', 'HITS', 'HMSP', 'HOKI', 'HOMI', 'HOTL', 'HRME', 'HRTA', 'HRUM', 'HUMI', 'IATA', 'IBOS', 'IBST', 'ICBP', 'IDPR', 'IFII', 'IFSH', 'IGAR', 'IIKP', 'IKAI', 'IKBI', 'IMAS', 'IMJS', 'IMPC', 'INAF', 'INAI', 'INCO', 'INDF', 'INDR', 'INDS', 'INDY', 'INET', 'INKP', 'INPC', 'INPP', 'INPS', 'INTA', 'INTP', 'IPCC', 'IPCM', 'IPOL', 'IPTV', 'IRRA', 'IRSX', 'ISAT', 'ISSP', 'ITMA', 'ITMG', 'JARR', 'JAWA', 'JAYA', 'JECC', 'JGLE', 'JIHD', 'JKON', 'JPFA', 'JRPT', 'JSKY', 'JSMR', 'JSPT', 'JTPE', 'KAEF', 'KARW', 'KBLI', 'KBLV', 'KEEN', 'KEJU', 'KIAS', 'KIJA', 'KINO', 'KIOS', 'KKGI', 'KLBF', 'KMTR', 'KOIN', 'KONI', 'KOTA', 'KPIG', 'KRAS', 'KREN', 'LAND', 'LAPD', 'LCGP', 'LIFE', 'LINK', 'LPCK', 'LPGI', 'LPKR', 'LPLI', 'LPPF', 'LPPS', 'LSIP', 'LTLS', 'MAGP', 'MAHA', 'MAIN', 'MAPA', 'MAPB', 'MAPI', 'MARK', 'MASA', 'MASB', 'MAYA', 'MBAP', 'MBMA', 'MBSS', 'MCAS', 'MCOL', 'MCOR', 'MDIA', 'MDKA', 'MDLN', 'MDRN', 'MEDC', 'MEGA', 'MERK', 'META', 'MFIN', 'MGRO', 'MICE', 'MIDI', 'MIKA', 'MINA', 'MIRA', 'MITI', 'MKNT', 'MKPI', 'MKTR', 'MLBI', 'MLIA', 'MLPL', 'MLPT', 'MMLP', 'MNCN', 'MOLI', 'MORA', 'MPMX', 'MPPA', 'MPRO', 'MRAT', 'MREI', 'MSIN', 'MSJA', 'MSKY', 'MSTI', 'MTDL', 'MTEL', 'MTFN', 'MTLA', 'MTMH', 'MTPS', 'MYOH', 'MYOR', 'MYTX', 'NASA', 'NATO', 'NCKL', 'NETV', 'NFCX', 'NICE', 'NICL', 'NIKL', 'NIRO', 'NISP', 'NOBU', 'NRCA', 'NSSS', 'OMED', 'OMRE', 'PADI', 'PALM', 'PANI', 'PANS', 'PBID', 'PBRX', 'PBSA', 'PCAR', 'PEGE', 'PEHA', 'PGAS', 'PGEO', 'PGLI', 'PGUN', 'PICO', 'PIPA', 'PJAA', 'PLIN', 'PMJS', 'PNBN', 'PNBS', 'PNIN', 'PNLF', 'POLA', 'POLI', 'POLL', 'POLU', 'POOL', 'PORT', 'POSA', 'POWR', 'PPRE', 'PPRO', 'PRAY', 'PRDA', 'PRIM', 'PSAB', 'PSGO', 'PSSI', 'PTBA', 'PTIS', 'PTMP', 'PTPP', 'PTRO', 'PTSN', 'PTSP', 'PWON', 'PYFA', 'PZZA', 'RAAM', 'RAJA', 'RALS', 'RDTX', 'RICY', 'RIGS', 'RISE', 'RMKE', 'RODA', 'ROTI', 'RSGK', 'RUIS', 'SAFE', 'SAGE', 'SAME', 'SAMF', 'SCCO', 'SCMA', 'SDMU', 'SDPC', 'SDRA', 'SFAN', 'SGER', 'SGRO', 'SHID', 'SHIP', 'SIDO', 'SILO', 'SIMP', 'SIPD', 'SKBM', 'SKLT', 'SKRN', 'SLIS', 'SMAR', 'SMBR', 'SMCB', 'SMDM', 'SMDR', 'SMGR', 'SMIL', 'SMMA', 'SMMT', 'SMRA', 'SMRU', 'SMSM', 'SOCI', 'SOHO', 'SONA', 'SPMA', 'SPTO', 'SQMI', 'SRAJ', 'SRIL', 'SRSN', 'SRTG', 'SSIA', 'SSMS', 'STAA', 'STAR', 'STRK', 'STTP', 'SULI', 'SUPR', 'SURE', 'SURI', 'TAMU', 'TAPG', 'TARA', 'TAXI', 'TBIG', 'TBLA', 'TCID', 'TCPI', 'TDPM', 'TEBE', 'TECH', 'TELE', 'TFAS', 'TFCO', 'TGKA', 'TGRA', 'TIFA', 'TINS', 'TIRT', 'TKIM', 'TLDN', 'TLKM', 'TMAS', 'TOBA', 'TOPS', 'TOTL', 'TOTO', 'TOWR', 'TPIA', 'TPMA', 'TRAM', 'TRGU', 'TRIL', 'TRIM', 'TRIN', 'TRIO', 'TRST', 'TSPC', 'TUGU', 'UCID', 'ULTJ', 'UNIC', 'UNSP', 'UNTD', 'UNTR', 'UNVR', 'URBN', 'VICI', 'VICO', 'VIVA', 'VKTR', 'VTNY', 'WEGE', 'WEHA', 'WIIM', 'WIKA', 'WINE', 'WINS', 'WIRG', 'WMPP', 'WMUU', 'WOMF', 'WOOD', 'WSBP', 'WSKT', 'WTON', 'YPAS', 'YULE', 'ZBRA', 'ZINC']\n"
     ]
    }
   ],
   "source": [
    "print(ticker_symbols)"
   ]
  },
  {
   "cell_type": "code",
   "execution_count": 12,
   "id": "9535d54a",
   "metadata": {},
   "outputs": [],
   "source": [
    "accounts = df['account'].unique().tolist()"
   ]
  },
  {
   "cell_type": "code",
   "execution_count": 13,
   "id": "4c71bf86",
   "metadata": {},
   "outputs": [
    {
     "data": {
      "text/plain": [
       "['Accounts Payable',\n",
       " 'Accounts Receivable',\n",
       " 'Accumulated Depreciation',\n",
       " 'Additional Paid In Capital',\n",
       " 'Allowance For Doubtful Accounts Receivable',\n",
       " 'Basic Average Shares',\n",
       " 'Basic EPS',\n",
       " 'Beginning Cash Position',\n",
       " 'Buildings And Improvements',\n",
       " 'Capital Expenditure',\n",
       " 'Capital Expenditure Reported',\n",
       " 'Capital Stock',\n",
       " 'Cash And Cash Equivalents',\n",
       " 'Cash Cash Equivalents And Short Term Investments',\n",
       " 'Cash Dividends Paid',\n",
       " 'Cash Equivalents',\n",
       " 'Cash Financial',\n",
       " 'Cash Flowsfromusedin Operating Activities Direct',\n",
       " 'Changes In Cash',\n",
       " 'Classesof Cash Payments',\n",
       " 'Classesof Cash Receiptsfrom Operating Activities',\n",
       " 'Common Stock',\n",
       " 'Common Stock Dividend Paid',\n",
       " 'Common Stock Equity',\n",
       " 'Construction In Progress',\n",
       " 'Cost Of Revenue',\n",
       " 'Current Assets',\n",
       " 'Current Debt',\n",
       " 'Current Debt And Capital Lease Obligation',\n",
       " 'Current Liabilities',\n",
       " 'Depreciation And Amortization In Income Statement',\n",
       " 'Depreciation Income Statement',\n",
       " 'Diluted Average Shares',\n",
       " 'Diluted EPS',\n",
       " 'Diluted NI Availto Com Stockholders',\n",
       " 'EBIT',\n",
       " 'EBITDA',\n",
       " 'Effect Of Exchange Rate Changes',\n",
       " 'End Cash Position',\n",
       " 'Financing Cash Flow',\n",
       " 'Finished Goods',\n",
       " 'Free Cash Flow',\n",
       " 'General And Administrative Expense',\n",
       " 'Goodwill',\n",
       " 'Goodwill And Other Intangible Assets',\n",
       " 'Gross Accounts Receivable',\n",
       " 'Gross PPE',\n",
       " 'Gross Profit',\n",
       " 'Impairment Of Capital Assets',\n",
       " 'Interest Expense',\n",
       " 'Interest Expense Non Operating',\n",
       " 'Interest Income',\n",
       " 'Interest Income Non Operating',\n",
       " 'Interest Paid Cff',\n",
       " 'Interest Received Direct',\n",
       " 'Inventory',\n",
       " 'Invested Capital',\n",
       " 'Investing Cash Flow',\n",
       " 'Investmentsin Joint Venturesat Cost',\n",
       " 'Issuance Of Debt',\n",
       " 'Land And Improvements',\n",
       " 'Long Term Debt',\n",
       " 'Long Term Debt And Capital Lease Obligation',\n",
       " 'Long Term Debt Issuance',\n",
       " 'Long Term Debt Payments',\n",
       " 'Long Term Equity Investment',\n",
       " 'Machinery Furniture Equipment',\n",
       " 'Minority Interest',\n",
       " 'Minority Interests',\n",
       " 'Net Debt',\n",
       " 'Net Income',\n",
       " 'Net Income Common Stockholders',\n",
       " 'Net Income Continuous Operations',\n",
       " 'Net Income From Continuing And Discontinued Operation',\n",
       " 'Net Income From Continuing Operation Net Minority Interest',\n",
       " 'Net Income Including Noncontrolling Interests',\n",
       " 'Net Interest Income',\n",
       " 'Net Issuance Payments Of Debt',\n",
       " 'Net Long Term Debt Issuance',\n",
       " 'Net Non Operating Interest Income Expense',\n",
       " 'Net Other Financing Charges',\n",
       " 'Net Other Investing Changes',\n",
       " 'Net PPE',\n",
       " 'Net PPE Purchase And Sale',\n",
       " 'Net Tangible Assets',\n",
       " 'Non Current Deferred Taxes Assets',\n",
       " 'Non Current Deferred Taxes Liabilities',\n",
       " 'Non Current Pension And Other Postretirement Benefit Plans',\n",
       " 'Normalized EBITDA',\n",
       " 'Normalized Income',\n",
       " 'Operating Expense',\n",
       " 'Operating Income',\n",
       " 'Operating Revenue',\n",
       " 'Ordinary Shares Number',\n",
       " 'Other Cash Paymentsfrom Operating Activities',\n",
       " 'Other Current Liabilities',\n",
       " 'Other Equity Interest',\n",
       " 'Other Inventories',\n",
       " 'Other Non Current Assets',\n",
       " 'Other Non Current Liabilities',\n",
       " 'Other Non Operating Income Expenses',\n",
       " 'Other Operating Expenses',\n",
       " 'Other Payable',\n",
       " 'Other Properties',\n",
       " 'Other Receivables',\n",
       " 'Other Special Charges',\n",
       " 'Otherunder Preferred Stock Dividend',\n",
       " 'Payables',\n",
       " 'Paymentsto Suppliersfor Goodsand Services',\n",
       " 'Pensionand Other Post Retirement Benefit Plans Current',\n",
       " 'Prepaid Assets',\n",
       " 'Pretax Income',\n",
       " 'Properties',\n",
       " 'Purchase Of PPE',\n",
       " 'Raw Materials',\n",
       " 'Receiptsfrom Customers',\n",
       " 'Reconciled Cost Of Revenue',\n",
       " 'Reconciled Depreciation',\n",
       " 'Repayment Of Debt',\n",
       " 'Research And Development',\n",
       " 'Retained Earnings',\n",
       " 'Selling And Marketing Expense',\n",
       " 'Selling General And Administration',\n",
       " 'Share Issued',\n",
       " 'Special Income Charges',\n",
       " 'Stockholders Equity',\n",
       " 'Tangible Book Value',\n",
       " 'Tax Effect Of Unusual Items',\n",
       " 'Tax Provision',\n",
       " 'Tax Rate For Calcs',\n",
       " 'Taxes Refund Paid Direct',\n",
       " 'Total Assets',\n",
       " 'Total Capitalization',\n",
       " 'Total Debt',\n",
       " 'Total Equity Gross Minority Interest',\n",
       " 'Total Expenses',\n",
       " 'Total Liabilities Net Minority Interest',\n",
       " 'Total Non Current Assets',\n",
       " 'Total Non Current Liabilities Net Minority Interest',\n",
       " 'Total Other Finance Cost',\n",
       " 'Total Revenue',\n",
       " 'Total Tax Payable',\n",
       " 'Total Unusual Items',\n",
       " 'Total Unusual Items Excluding Goodwill',\n",
       " 'Treasury Shares Number',\n",
       " 'Work In Process',\n",
       " 'Working Capital',\n",
       " 'Write Off',\n",
       " 'Amortization',\n",
       " 'Available For Sale Securities',\n",
       " 'Capital Lease Obligations',\n",
       " 'Common Stock Issuance',\n",
       " 'Current Capital Lease Obligation',\n",
       " 'Current Deferred Taxes Liabilities',\n",
       " 'Dividends Payable',\n",
       " 'Dividends Received Cfi',\n",
       " 'Interest Paid Direct',\n",
       " 'Inventories Adjustments Allowances',\n",
       " 'Investmentin Financial Assets',\n",
       " 'Investmentsin Associatesat Cost',\n",
       " 'Issuance Of Capital Stock',\n",
       " 'Long Term Capital Lease Obligation',\n",
       " 'Net Business Purchase And Sale',\n",
       " 'Net Common Stock Issuance',\n",
       " 'Net Intangibles Purchase And Sale',\n",
       " 'Net Investment Properties Purchase And Sale',\n",
       " 'Net Short Term Debt Issuance',\n",
       " 'Non Current Deferred Revenue',\n",
       " 'Other Cash Adjustment Outside Changein Cash',\n",
       " 'Other Cash Receiptsfrom Operating Activities',\n",
       " 'Other Intangible Assets',\n",
       " 'Other Short Term Investments',\n",
       " 'Paymentson Behalfof Employees',\n",
       " 'Purchase Of Business',\n",
       " 'Purchase Of Intangibles',\n",
       " 'Rent And Landing Fees',\n",
       " 'Rent Expense Supplemental',\n",
       " 'Sale Of Investment Properties',\n",
       " 'Sale Of PPE',\n",
       " 'Short Term Debt Issuance',\n",
       " 'Short Term Debt Payments',\n",
       " 'Tradeand Other Payables Non Current',\n",
       " 'Investment Properties',\n",
       " 'Investments And Advances',\n",
       " 'Investments In Other Ventures Under Equity Method',\n",
       " 'Net Investment Purchase And Sale',\n",
       " 'Other Income Expense',\n",
       " 'Purchase Of Investment',\n",
       " 'Restructuring And Mergern Acquisition',\n",
       " 'Sale Of Investment',\n",
       " 'Trading Securities',\n",
       " 'Assets Held For Sale Current',\n",
       " 'Long Term Provisions',\n",
       " 'Non Current Deferred Assets',\n",
       " 'Non Current Prepaid Assets',\n",
       " 'Other Current Assets',\n",
       " 'Restricted Cash',\n",
       " 'Sale Of Business',\n",
       " 'Total Operating Income As Reported',\n",
       " 'Common Stock Payments',\n",
       " 'Investmentsin Subsidiariesat Cost',\n",
       " 'Purchase Of Investment Properties',\n",
       " 'Repurchase Of Capital Stock',\n",
       " 'Treasury Stock',\n",
       " 'Current Deferred Assets',\n",
       " 'Other Cash Adjustment Inside Changein Cash',\n",
       " 'Held To Maturity Securities',\n",
       " 'Sale Of Intangibles',\n",
       " 'Current Provisions',\n",
       " 'Financial Assets Designatedas Fair Value Through Profitor Loss Total',\n",
       " 'Fixed Assets Revaluation Reserve',\n",
       " 'Interest Received Cfi',\n",
       " 'Other Investments',\n",
       " 'Taxes Receivable',\n",
       " 'Derivative Product Liabilities',\n",
       " 'Financial Assets',\n",
       " 'Gain On Sale Of Security',\n",
       " 'Insurance And Claims',\n",
       " 'Operating Cash Flow',\n",
       " 'Receivables',\n",
       " 'Net Income Extraordinary',\n",
       " 'Net Income Discontinuous Operations',\n",
       " 'Non Current Accrued Expenses',\n",
       " 'Hedging Assets Current',\n",
       " 'Net Preferred Stock Issuance',\n",
       " 'Preferred Stock Issuance',\n",
       " 'Defined Pension Benefit',\n",
       " 'Receivables Adjustments Allowances',\n",
       " 'Average Dilution Earnings',\n",
       " 'Change In Other Current Assets',\n",
       " 'Change In Other Current Liabilities',\n",
       " 'Change In Payable',\n",
       " 'Change In Receivables',\n",
       " 'Change In Working Capital',\n",
       " 'Interest Paid Cfo',\n",
       " 'Interest Received Cfo',\n",
       " 'Taxes Refund Paid',\n",
       " 'Preferred Stock Dividends',\n",
       " 'Liabilities Heldfor Sale Non Current',\n",
       " 'Dividends Received Direct',\n",
       " 'Dividends Paid Direct',\n",
       " 'Preferred Shares Number',\n",
       " 'Change In Accrued Expense',\n",
       " 'Net Foreign Currency Exchange Gain Loss',\n",
       " 'Cash Flow From Continuing Financing Activities',\n",
       " 'Cash Flow From Continuing Investing Activities',\n",
       " 'Current Accrued Expenses',\n",
       " 'Current Deferred Liabilities',\n",
       " 'Current Deferred Revenue',\n",
       " 'Depreciation Amortization Depletion Income Statement',\n",
       " 'Earnings From Equity Interest',\n",
       " 'Employee Benefits',\n",
       " 'Gains Losses Not Affecting Retained Earnings',\n",
       " 'Income Tax Payable',\n",
       " 'Interest Payable',\n",
       " 'Leases',\n",
       " 'Line Of Credit',\n",
       " 'Non Current Accounts Receivable',\n",
       " 'Non Current Deferred Liabilities',\n",
       " 'Other Current Borrowings',\n",
       " 'Other Equity Adjustments',\n",
       " 'Other Gand A',\n",
       " 'Payables And Accrued Expenses',\n",
       " 'Provision For Doubtful Accounts',\n",
       " 'Salaries And Wages']"
      ]
     },
     "execution_count": 13,
     "metadata": {},
     "output_type": "execute_result"
    }
   ],
   "source": [
    "accounts"
   ]
  },
  {
   "cell_type": "markdown",
   "id": "c743fb28",
   "metadata": {},
   "source": [
    "### 5. Feature Selection"
   ]
  },
  {
   "cell_type": "code",
   "execution_count": 14,
   "id": "4308575c",
   "metadata": {},
   "outputs": [],
   "source": [
    "# WIP"
   ]
  },
  {
   "cell_type": "markdown",
   "id": "5754d51d",
   "metadata": {},
   "source": [
    "### 6. Data Modelling"
   ]
  },
  {
   "cell_type": "code",
   "execution_count": 15,
   "id": "1419031d",
   "metadata": {},
   "outputs": [],
   "source": [
    "# WIP"
   ]
  }
 ],
 "metadata": {
  "kernelspec": {
   "display_name": "Python 3 (ipykernel)",
   "language": "python",
   "name": "python3"
  },
  "language_info": {
   "codemirror_mode": {
    "name": "ipython",
    "version": 3
   },
   "file_extension": ".py",
   "mimetype": "text/x-python",
   "name": "python",
   "nbconvert_exporter": "python",
   "pygments_lexer": "ipython3",
   "version": "3.10.9"
  }
 },
 "nbformat": 4,
 "nbformat_minor": 5
}
