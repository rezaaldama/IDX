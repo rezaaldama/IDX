{
 "cells": [
  {
   "cell_type": "code",
   "execution_count": 1,
   "id": "5aea62a0",
   "metadata": {},
   "outputs": [],
   "source": [
    "import pandas as pd\n",
    "import matplotlib.pyplot as plt\n",
    "import numpy as np\n",
    "\n",
    "from scipy.stats import norm"
   ]
  },
  {
   "cell_type": "code",
   "execution_count": 2,
   "id": "67eaac52",
   "metadata": {},
   "outputs": [],
   "source": [
    "# pd.set_option('display.float_format', lambda x: '%.f' % x)\n",
    "# pd.set_option('display.max_rows', None)\n",
    "# pd.set_option('display.max_columns', None)"
   ]
  },
  {
   "cell_type": "markdown",
   "id": "17999549",
   "metadata": {},
   "source": [
    "### 1. Problem Definition"
   ]
  },
  {
   "cell_type": "markdown",
   "id": "1941b2f8",
   "metadata": {},
   "source": [
    "To predict stock price appreciation based on financial data (fundamental approach) for Indonesian public companies from 2020 until 2023."
   ]
  },
  {
   "cell_type": "markdown",
   "id": "2b8972a2",
   "metadata": {},
   "source": [
    "### 2. Data Collection"
   ]
  },
  {
   "cell_type": "code",
   "execution_count": 3,
   "id": "f8610d6a",
   "metadata": {},
   "outputs": [],
   "source": [
    "df = pd.read_csv('combined_financial_data_idx.csv')"
   ]
  },
  {
   "cell_type": "code",
   "execution_count": 4,
   "id": "11c318e5",
   "metadata": {},
   "outputs": [
    {
     "data": {
      "text/html": [
       "<div>\n",
       "<style scoped>\n",
       "    .dataframe tbody tr th:only-of-type {\n",
       "        vertical-align: middle;\n",
       "    }\n",
       "\n",
       "    .dataframe tbody tr th {\n",
       "        vertical-align: top;\n",
       "    }\n",
       "\n",
       "    .dataframe thead th {\n",
       "        text-align: right;\n",
       "    }\n",
       "</style>\n",
       "<table border=\"1\" class=\"dataframe\">\n",
       "  <thead>\n",
       "    <tr style=\"text-align: right;\">\n",
       "      <th></th>\n",
       "      <th>symbol</th>\n",
       "      <th>account</th>\n",
       "      <th>type</th>\n",
       "      <th>2020</th>\n",
       "      <th>2021</th>\n",
       "      <th>2022</th>\n",
       "      <th>2023</th>\n",
       "    </tr>\n",
       "  </thead>\n",
       "  <tbody>\n",
       "    <tr>\n",
       "      <th>0</th>\n",
       "      <td>AALI</td>\n",
       "      <td>Accounts Payable</td>\n",
       "      <td>BS</td>\n",
       "      <td>7.702640e+11</td>\n",
       "      <td>1.026717e+12</td>\n",
       "      <td>1.224423e+12</td>\n",
       "      <td>8.420640e+11</td>\n",
       "    </tr>\n",
       "    <tr>\n",
       "      <th>1</th>\n",
       "      <td>AALI</td>\n",
       "      <td>Accounts Receivable</td>\n",
       "      <td>BS</td>\n",
       "      <td>7.658490e+11</td>\n",
       "      <td>4.581350e+11</td>\n",
       "      <td>8.487700e+11</td>\n",
       "      <td>6.744870e+11</td>\n",
       "    </tr>\n",
       "    <tr>\n",
       "      <th>2</th>\n",
       "      <td>AALI</td>\n",
       "      <td>Accumulated Depreciation</td>\n",
       "      <td>BS</td>\n",
       "      <td>-1.092095e+13</td>\n",
       "      <td>-1.213381e+13</td>\n",
       "      <td>-1.330375e+13</td>\n",
       "      <td>-1.443685e+13</td>\n",
       "    </tr>\n",
       "    <tr>\n",
       "      <th>3</th>\n",
       "      <td>AALI</td>\n",
       "      <td>Additional Paid In Capital</td>\n",
       "      <td>BS</td>\n",
       "      <td>3.878995e+12</td>\n",
       "      <td>3.878995e+12</td>\n",
       "      <td>3.878995e+12</td>\n",
       "      <td>3.878995e+12</td>\n",
       "    </tr>\n",
       "    <tr>\n",
       "      <th>4</th>\n",
       "      <td>AALI</td>\n",
       "      <td>Allowance For Doubtful Accounts Receivable</td>\n",
       "      <td>BS</td>\n",
       "      <td>-2.426100e+10</td>\n",
       "      <td>-2.454300e+10</td>\n",
       "      <td>-2.705700e+10</td>\n",
       "      <td>-2.651600e+10</td>\n",
       "    </tr>\n",
       "  </tbody>\n",
       "</table>\n",
       "</div>"
      ],
      "text/plain": [
       "  symbol                                     account type          2020  \\\n",
       "0   AALI                            Accounts Payable   BS  7.702640e+11   \n",
       "1   AALI                         Accounts Receivable   BS  7.658490e+11   \n",
       "2   AALI                    Accumulated Depreciation   BS -1.092095e+13   \n",
       "3   AALI                  Additional Paid In Capital   BS  3.878995e+12   \n",
       "4   AALI  Allowance For Doubtful Accounts Receivable   BS -2.426100e+10   \n",
       "\n",
       "           2021          2022          2023  \n",
       "0  1.026717e+12  1.224423e+12  8.420640e+11  \n",
       "1  4.581350e+11  8.487700e+11  6.744870e+11  \n",
       "2 -1.213381e+13 -1.330375e+13 -1.443685e+13  \n",
       "3  3.878995e+12  3.878995e+12  3.878995e+12  \n",
       "4 -2.454300e+10 -2.705700e+10 -2.651600e+10  "
      ]
     },
     "execution_count": 4,
     "metadata": {},
     "output_type": "execute_result"
    }
   ],
   "source": [
    "df.head()"
   ]
  },
  {
   "cell_type": "code",
   "execution_count": 5,
   "id": "06c210bf",
   "metadata": {},
   "outputs": [],
   "source": [
    "df = df.pivot(index='symbol', columns='account', values=['2020', '2021', '2022', '2023'])\n",
    "df.columns = [f'{col[1]}_{col[0]}' for col in df.columns]\n",
    "df.reset_index(inplace=True)"
   ]
  },
  {
   "cell_type": "code",
   "execution_count": 6,
   "id": "27bf5bfd",
   "metadata": {},
   "outputs": [
    {
     "data": {
      "text/html": [
       "<div>\n",
       "<style scoped>\n",
       "    .dataframe tbody tr th:only-of-type {\n",
       "        vertical-align: middle;\n",
       "    }\n",
       "\n",
       "    .dataframe tbody tr th {\n",
       "        vertical-align: top;\n",
       "    }\n",
       "\n",
       "    .dataframe thead th {\n",
       "        text-align: right;\n",
       "    }\n",
       "</style>\n",
       "<table border=\"1\" class=\"dataframe\">\n",
       "  <thead>\n",
       "    <tr style=\"text-align: right;\">\n",
       "      <th></th>\n",
       "      <th>symbol</th>\n",
       "      <th>Accounts Payable_2020</th>\n",
       "      <th>Accounts Receivable_2020</th>\n",
       "      <th>Accumulated Depreciation_2020</th>\n",
       "      <th>Additional Paid In Capital_2020</th>\n",
       "      <th>Allowance For Doubtful Accounts Receivable_2020</th>\n",
       "      <th>Amortization_2020</th>\n",
       "      <th>Assets Held For Sale Current_2020</th>\n",
       "      <th>Available For Sale Securities_2020</th>\n",
       "      <th>Average Dilution Earnings_2020</th>\n",
       "      <th>...</th>\n",
       "      <th>Total Tax Payable_2023</th>\n",
       "      <th>Total Unusual Items_2023</th>\n",
       "      <th>Total Unusual Items Excluding Goodwill_2023</th>\n",
       "      <th>Tradeand Other Payables Non Current_2023</th>\n",
       "      <th>Trading Securities_2023</th>\n",
       "      <th>Treasury Shares Number_2023</th>\n",
       "      <th>Treasury Stock_2023</th>\n",
       "      <th>Work In Process_2023</th>\n",
       "      <th>Working Capital_2023</th>\n",
       "      <th>Write Off_2023</th>\n",
       "    </tr>\n",
       "  </thead>\n",
       "  <tbody>\n",
       "    <tr>\n",
       "      <th>0</th>\n",
       "      <td>AALI</td>\n",
       "      <td>7.702640e+11</td>\n",
       "      <td>7.658490e+11</td>\n",
       "      <td>-1.092095e+13</td>\n",
       "      <td>3.878995e+12</td>\n",
       "      <td>-2.426100e+10</td>\n",
       "      <td>NaN</td>\n",
       "      <td>NaN</td>\n",
       "      <td>NaN</td>\n",
       "      <td>NaN</td>\n",
       "      <td>...</td>\n",
       "      <td>1.202370e+11</td>\n",
       "      <td>7.490100e+10</td>\n",
       "      <td>7.490100e+10</td>\n",
       "      <td>NaN</td>\n",
       "      <td>NaN</td>\n",
       "      <td>0.0</td>\n",
       "      <td>NaN</td>\n",
       "      <td>1.099140e+11</td>\n",
       "      <td>3.236061e+12</td>\n",
       "      <td>-2.384100e+10</td>\n",
       "    </tr>\n",
       "    <tr>\n",
       "      <th>1</th>\n",
       "      <td>ABBA</td>\n",
       "      <td>3.835642e+10</td>\n",
       "      <td>1.589415e+10</td>\n",
       "      <td>-1.764548e+11</td>\n",
       "      <td>-1.012454e+11</td>\n",
       "      <td>-6.841390e+10</td>\n",
       "      <td>NaN</td>\n",
       "      <td>NaN</td>\n",
       "      <td>8.225640e+10</td>\n",
       "      <td>NaN</td>\n",
       "      <td>...</td>\n",
       "      <td>1.718310e+10</td>\n",
       "      <td>NaN</td>\n",
       "      <td>NaN</td>\n",
       "      <td>1.026090e+11</td>\n",
       "      <td>NaN</td>\n",
       "      <td>NaN</td>\n",
       "      <td>NaN</td>\n",
       "      <td>NaN</td>\n",
       "      <td>-1.025919e+11</td>\n",
       "      <td>NaN</td>\n",
       "    </tr>\n",
       "    <tr>\n",
       "      <th>2</th>\n",
       "      <td>ABDA</td>\n",
       "      <td>7.686395e+09</td>\n",
       "      <td>8.013687e+10</td>\n",
       "      <td>-9.088003e+10</td>\n",
       "      <td>8.109426e+09</td>\n",
       "      <td>NaN</td>\n",
       "      <td>NaN</td>\n",
       "      <td>NaN</td>\n",
       "      <td>NaN</td>\n",
       "      <td>NaN</td>\n",
       "      <td>...</td>\n",
       "      <td>3.849437e+09</td>\n",
       "      <td>8.119158e+09</td>\n",
       "      <td>8.119158e+09</td>\n",
       "      <td>NaN</td>\n",
       "      <td>NaN</td>\n",
       "      <td>NaN</td>\n",
       "      <td>NaN</td>\n",
       "      <td>NaN</td>\n",
       "      <td>NaN</td>\n",
       "      <td>0.000000e+00</td>\n",
       "    </tr>\n",
       "    <tr>\n",
       "      <th>3</th>\n",
       "      <td>ABMM</td>\n",
       "      <td>1.156274e+08</td>\n",
       "      <td>1.386149e+08</td>\n",
       "      <td>-6.859381e+08</td>\n",
       "      <td>1.150872e+08</td>\n",
       "      <td>-5.242683e+07</td>\n",
       "      <td>NaN</td>\n",
       "      <td>0.0</td>\n",
       "      <td>2.002887e+07</td>\n",
       "      <td>NaN</td>\n",
       "      <td>...</td>\n",
       "      <td>9.567298e+06</td>\n",
       "      <td>NaN</td>\n",
       "      <td>NaN</td>\n",
       "      <td>NaN</td>\n",
       "      <td>NaN</td>\n",
       "      <td>0.0</td>\n",
       "      <td>NaN</td>\n",
       "      <td>1.039217e+07</td>\n",
       "      <td>-8.958664e+06</td>\n",
       "      <td>NaN</td>\n",
       "    </tr>\n",
       "    <tr>\n",
       "      <th>4</th>\n",
       "      <td>ACES</td>\n",
       "      <td>1.642272e+11</td>\n",
       "      <td>1.434827e+11</td>\n",
       "      <td>-8.396180e+11</td>\n",
       "      <td>4.405749e+11</td>\n",
       "      <td>-5.511007e+07</td>\n",
       "      <td>3.706185e+09</td>\n",
       "      <td>NaN</td>\n",
       "      <td>NaN</td>\n",
       "      <td>NaN</td>\n",
       "      <td>...</td>\n",
       "      <td>7.371071e+10</td>\n",
       "      <td>-5.739006e+08</td>\n",
       "      <td>-5.739006e+08</td>\n",
       "      <td>NaN</td>\n",
       "      <td>NaN</td>\n",
       "      <td>29610300.0</td>\n",
       "      <td>3.418487e+10</td>\n",
       "      <td>NaN</td>\n",
       "      <td>4.898755e+12</td>\n",
       "      <td>5.463870e+07</td>\n",
       "    </tr>\n",
       "  </tbody>\n",
       "</table>\n",
       "<p>5 rows × 1061 columns</p>\n",
       "</div>"
      ],
      "text/plain": [
       "  symbol  Accounts Payable_2020  Accounts Receivable_2020  \\\n",
       "0   AALI           7.702640e+11              7.658490e+11   \n",
       "1   ABBA           3.835642e+10              1.589415e+10   \n",
       "2   ABDA           7.686395e+09              8.013687e+10   \n",
       "3   ABMM           1.156274e+08              1.386149e+08   \n",
       "4   ACES           1.642272e+11              1.434827e+11   \n",
       "\n",
       "   Accumulated Depreciation_2020  Additional Paid In Capital_2020  \\\n",
       "0                  -1.092095e+13                     3.878995e+12   \n",
       "1                  -1.764548e+11                    -1.012454e+11   \n",
       "2                  -9.088003e+10                     8.109426e+09   \n",
       "3                  -6.859381e+08                     1.150872e+08   \n",
       "4                  -8.396180e+11                     4.405749e+11   \n",
       "\n",
       "   Allowance For Doubtful Accounts Receivable_2020  Amortization_2020  \\\n",
       "0                                    -2.426100e+10                NaN   \n",
       "1                                    -6.841390e+10                NaN   \n",
       "2                                              NaN                NaN   \n",
       "3                                    -5.242683e+07                NaN   \n",
       "4                                    -5.511007e+07       3.706185e+09   \n",
       "\n",
       "   Assets Held For Sale Current_2020  Available For Sale Securities_2020  \\\n",
       "0                                NaN                                 NaN   \n",
       "1                                NaN                        8.225640e+10   \n",
       "2                                NaN                                 NaN   \n",
       "3                                0.0                        2.002887e+07   \n",
       "4                                NaN                                 NaN   \n",
       "\n",
       "   Average Dilution Earnings_2020  ...  Total Tax Payable_2023  \\\n",
       "0                             NaN  ...            1.202370e+11   \n",
       "1                             NaN  ...            1.718310e+10   \n",
       "2                             NaN  ...            3.849437e+09   \n",
       "3                             NaN  ...            9.567298e+06   \n",
       "4                             NaN  ...            7.371071e+10   \n",
       "\n",
       "   Total Unusual Items_2023  Total Unusual Items Excluding Goodwill_2023  \\\n",
       "0              7.490100e+10                                 7.490100e+10   \n",
       "1                       NaN                                          NaN   \n",
       "2              8.119158e+09                                 8.119158e+09   \n",
       "3                       NaN                                          NaN   \n",
       "4             -5.739006e+08                                -5.739006e+08   \n",
       "\n",
       "   Tradeand Other Payables Non Current_2023  Trading Securities_2023  \\\n",
       "0                                       NaN                      NaN   \n",
       "1                              1.026090e+11                      NaN   \n",
       "2                                       NaN                      NaN   \n",
       "3                                       NaN                      NaN   \n",
       "4                                       NaN                      NaN   \n",
       "\n",
       "   Treasury Shares Number_2023  Treasury Stock_2023  Work In Process_2023  \\\n",
       "0                          0.0                  NaN          1.099140e+11   \n",
       "1                          NaN                  NaN                   NaN   \n",
       "2                          NaN                  NaN                   NaN   \n",
       "3                          0.0                  NaN          1.039217e+07   \n",
       "4                   29610300.0         3.418487e+10                   NaN   \n",
       "\n",
       "   Working Capital_2023  Write Off_2023  \n",
       "0          3.236061e+12   -2.384100e+10  \n",
       "1         -1.025919e+11             NaN  \n",
       "2                   NaN    0.000000e+00  \n",
       "3         -8.958664e+06             NaN  \n",
       "4          4.898755e+12    5.463870e+07  \n",
       "\n",
       "[5 rows x 1061 columns]"
      ]
     },
     "execution_count": 6,
     "metadata": {},
     "output_type": "execute_result"
    }
   ],
   "source": [
    "df.head()"
   ]
  },
  {
   "cell_type": "code",
   "execution_count": 7,
   "id": "150bb775",
   "metadata": {},
   "outputs": [
    {
     "data": {
      "text/html": [
       "<div>\n",
       "<style scoped>\n",
       "    .dataframe tbody tr th:only-of-type {\n",
       "        vertical-align: middle;\n",
       "    }\n",
       "\n",
       "    .dataframe tbody tr th {\n",
       "        vertical-align: top;\n",
       "    }\n",
       "\n",
       "    .dataframe thead th {\n",
       "        text-align: right;\n",
       "    }\n",
       "</style>\n",
       "<table border=\"1\" class=\"dataframe\">\n",
       "  <thead>\n",
       "    <tr style=\"text-align: right;\">\n",
       "      <th></th>\n",
       "      <th>count</th>\n",
       "      <th>mean</th>\n",
       "      <th>std</th>\n",
       "      <th>min</th>\n",
       "      <th>25%</th>\n",
       "      <th>50%</th>\n",
       "      <th>75%</th>\n",
       "      <th>max</th>\n",
       "    </tr>\n",
       "  </thead>\n",
       "  <tbody>\n",
       "    <tr>\n",
       "      <th>Accounts Payable_2020</th>\n",
       "      <td>581.0</td>\n",
       "      <td>4.966911e+11</td>\n",
       "      <td>1.706642e+12</td>\n",
       "      <td>0.000000e+00</td>\n",
       "      <td>6.615148e+09</td>\n",
       "      <td>8.067720e+10</td>\n",
       "      <td>3.300470e+11</td>\n",
       "      <td>1.699900e+13</td>\n",
       "    </tr>\n",
       "    <tr>\n",
       "      <th>Accounts Receivable_2020</th>\n",
       "      <td>530.0</td>\n",
       "      <td>5.727652e+11</td>\n",
       "      <td>1.676043e+12</td>\n",
       "      <td>0.000000e+00</td>\n",
       "      <td>4.702138e+09</td>\n",
       "      <td>8.769114e+10</td>\n",
       "      <td>4.007902e+11</td>\n",
       "      <td>1.707864e+13</td>\n",
       "    </tr>\n",
       "    <tr>\n",
       "      <th>Accumulated Depreciation_2020</th>\n",
       "      <td>588.0</td>\n",
       "      <td>-2.057908e+12</td>\n",
       "      <td>1.001841e+13</td>\n",
       "      <td>-1.664430e+14</td>\n",
       "      <td>-1.039924e+12</td>\n",
       "      <td>-1.984147e+11</td>\n",
       "      <td>-2.376867e+10</td>\n",
       "      <td>0.000000e+00</td>\n",
       "    </tr>\n",
       "    <tr>\n",
       "      <th>Additional Paid In Capital_2020</th>\n",
       "      <td>577.0</td>\n",
       "      <td>8.624769e+11</td>\n",
       "      <td>3.342041e+12</td>\n",
       "      <td>-4.111710e+12</td>\n",
       "      <td>4.570000e+08</td>\n",
       "      <td>8.167701e+10</td>\n",
       "      <td>5.698250e+11</td>\n",
       "      <td>6.328082e+13</td>\n",
       "    </tr>\n",
       "    <tr>\n",
       "      <th>Allowance For Doubtful Accounts Receivable_2020</th>\n",
       "      <td>405.0</td>\n",
       "      <td>-8.417233e+10</td>\n",
       "      <td>4.783591e+11</td>\n",
       "      <td>-8.360000e+12</td>\n",
       "      <td>-3.574800e+10</td>\n",
       "      <td>-3.776131e+09</td>\n",
       "      <td>-1.267331e+08</td>\n",
       "      <td>0.000000e+00</td>\n",
       "    </tr>\n",
       "    <tr>\n",
       "      <th>...</th>\n",
       "      <td>...</td>\n",
       "      <td>...</td>\n",
       "      <td>...</td>\n",
       "      <td>...</td>\n",
       "      <td>...</td>\n",
       "      <td>...</td>\n",
       "      <td>...</td>\n",
       "      <td>...</td>\n",
       "    </tr>\n",
       "    <tr>\n",
       "      <th>Treasury Shares Number_2023</th>\n",
       "      <td>216.0</td>\n",
       "      <td>7.915106e+08</td>\n",
       "      <td>8.925468e+09</td>\n",
       "      <td>0.000000e+00</td>\n",
       "      <td>0.000000e+00</td>\n",
       "      <td>1.045300e+04</td>\n",
       "      <td>1.054315e+08</td>\n",
       "      <td>1.308512e+11</td>\n",
       "    </tr>\n",
       "    <tr>\n",
       "      <th>Treasury Stock_2023</th>\n",
       "      <td>116.0</td>\n",
       "      <td>3.022673e+11</td>\n",
       "      <td>9.796827e+11</td>\n",
       "      <td>0.000000e+00</td>\n",
       "      <td>7.526860e+08</td>\n",
       "      <td>2.250151e+10</td>\n",
       "      <td>1.221651e+11</td>\n",
       "      <td>8.199511e+12</td>\n",
       "    </tr>\n",
       "    <tr>\n",
       "      <th>Work In Process_2023</th>\n",
       "      <td>143.0</td>\n",
       "      <td>9.994955e+10</td>\n",
       "      <td>2.273102e+11</td>\n",
       "      <td>0.000000e+00</td>\n",
       "      <td>1.640456e+09</td>\n",
       "      <td>1.576900e+10</td>\n",
       "      <td>8.045000e+10</td>\n",
       "      <td>1.836794e+12</td>\n",
       "    </tr>\n",
       "    <tr>\n",
       "      <th>Working Capital_2023</th>\n",
       "      <td>457.0</td>\n",
       "      <td>1.071514e+12</td>\n",
       "      <td>4.735861e+12</td>\n",
       "      <td>-1.987207e+13</td>\n",
       "      <td>8.225521e+06</td>\n",
       "      <td>1.602316e+11</td>\n",
       "      <td>9.218260e+11</td>\n",
       "      <td>4.116400e+13</td>\n",
       "    </tr>\n",
       "    <tr>\n",
       "      <th>Write Off_2023</th>\n",
       "      <td>217.0</td>\n",
       "      <td>-6.142625e+10</td>\n",
       "      <td>1.180043e+12</td>\n",
       "      <td>-1.633573e+13</td>\n",
       "      <td>0.000000e+00</td>\n",
       "      <td>3.860000e+08</td>\n",
       "      <td>1.104098e+10</td>\n",
       "      <td>2.653873e+12</td>\n",
       "    </tr>\n",
       "  </tbody>\n",
       "</table>\n",
       "<p>1060 rows × 8 columns</p>\n",
       "</div>"
      ],
      "text/plain": [
       "                                                 count          mean  \\\n",
       "Accounts Payable_2020                            581.0  4.966911e+11   \n",
       "Accounts Receivable_2020                         530.0  5.727652e+11   \n",
       "Accumulated Depreciation_2020                    588.0 -2.057908e+12   \n",
       "Additional Paid In Capital_2020                  577.0  8.624769e+11   \n",
       "Allowance For Doubtful Accounts Receivable_2020  405.0 -8.417233e+10   \n",
       "...                                                ...           ...   \n",
       "Treasury Shares Number_2023                      216.0  7.915106e+08   \n",
       "Treasury Stock_2023                              116.0  3.022673e+11   \n",
       "Work In Process_2023                             143.0  9.994955e+10   \n",
       "Working Capital_2023                             457.0  1.071514e+12   \n",
       "Write Off_2023                                   217.0 -6.142625e+10   \n",
       "\n",
       "                                                          std           min  \\\n",
       "Accounts Payable_2020                            1.706642e+12  0.000000e+00   \n",
       "Accounts Receivable_2020                         1.676043e+12  0.000000e+00   \n",
       "Accumulated Depreciation_2020                    1.001841e+13 -1.664430e+14   \n",
       "Additional Paid In Capital_2020                  3.342041e+12 -4.111710e+12   \n",
       "Allowance For Doubtful Accounts Receivable_2020  4.783591e+11 -8.360000e+12   \n",
       "...                                                       ...           ...   \n",
       "Treasury Shares Number_2023                      8.925468e+09  0.000000e+00   \n",
       "Treasury Stock_2023                              9.796827e+11  0.000000e+00   \n",
       "Work In Process_2023                             2.273102e+11  0.000000e+00   \n",
       "Working Capital_2023                             4.735861e+12 -1.987207e+13   \n",
       "Write Off_2023                                   1.180043e+12 -1.633573e+13   \n",
       "\n",
       "                                                          25%           50%  \\\n",
       "Accounts Payable_2020                            6.615148e+09  8.067720e+10   \n",
       "Accounts Receivable_2020                         4.702138e+09  8.769114e+10   \n",
       "Accumulated Depreciation_2020                   -1.039924e+12 -1.984147e+11   \n",
       "Additional Paid In Capital_2020                  4.570000e+08  8.167701e+10   \n",
       "Allowance For Doubtful Accounts Receivable_2020 -3.574800e+10 -3.776131e+09   \n",
       "...                                                       ...           ...   \n",
       "Treasury Shares Number_2023                      0.000000e+00  1.045300e+04   \n",
       "Treasury Stock_2023                              7.526860e+08  2.250151e+10   \n",
       "Work In Process_2023                             1.640456e+09  1.576900e+10   \n",
       "Working Capital_2023                             8.225521e+06  1.602316e+11   \n",
       "Write Off_2023                                   0.000000e+00  3.860000e+08   \n",
       "\n",
       "                                                          75%           max  \n",
       "Accounts Payable_2020                            3.300470e+11  1.699900e+13  \n",
       "Accounts Receivable_2020                         4.007902e+11  1.707864e+13  \n",
       "Accumulated Depreciation_2020                   -2.376867e+10  0.000000e+00  \n",
       "Additional Paid In Capital_2020                  5.698250e+11  6.328082e+13  \n",
       "Allowance For Doubtful Accounts Receivable_2020 -1.267331e+08  0.000000e+00  \n",
       "...                                                       ...           ...  \n",
       "Treasury Shares Number_2023                      1.054315e+08  1.308512e+11  \n",
       "Treasury Stock_2023                              1.221651e+11  8.199511e+12  \n",
       "Work In Process_2023                             8.045000e+10  1.836794e+12  \n",
       "Working Capital_2023                             9.218260e+11  4.116400e+13  \n",
       "Write Off_2023                                   1.104098e+10  2.653873e+12  \n",
       "\n",
       "[1060 rows x 8 columns]"
      ]
     },
     "execution_count": 7,
     "metadata": {},
     "output_type": "execute_result"
    }
   ],
   "source": [
    "df.describe().transpose()"
   ]
  },
  {
   "cell_type": "markdown",
   "id": "619285a4",
   "metadata": {},
   "source": [
    "#### 2.1. Target variables"
   ]
  },
  {
   "cell_type": "markdown",
   "id": "55032f81",
   "metadata": {},
   "source": [
    "The first dataset contains stock price appreciation data of Indonesian public companies from 2021 until 2023."
   ]
  },
  {
   "cell_type": "code",
   "execution_count": 8,
   "id": "ba40adf0",
   "metadata": {},
   "outputs": [],
   "source": [
    "# WIP"
   ]
  },
  {
   "cell_type": "markdown",
   "id": "11a3be55",
   "metadata": {},
   "source": [
    "#### 2.2. Predictor variables"
   ]
  },
  {
   "cell_type": "markdown",
   "id": "27ae8fab",
   "metadata": {},
   "source": [
    "The second dataset contains financial data of Indonesian public companies from 2020 until 2023."
   ]
  },
  {
   "cell_type": "markdown",
   "id": "7fb1cf21",
   "metadata": {},
   "source": [
    "#### 2.2.1. Return on Equity (ROE)"
   ]
  },
  {
   "cell_type": "code",
   "execution_count": null,
   "id": "97ec19e7",
   "metadata": {},
   "outputs": [],
   "source": [
    "# WIP"
   ]
  },
  {
   "cell_type": "code",
   "execution_count": 9,
   "id": "58a8d8ed",
   "metadata": {},
   "outputs": [
    {
     "ename": "NameError",
     "evalue": "name 'psql' is not defined",
     "output_type": "error",
     "traceback": [
      "\u001b[1;31m---------------------------------------------------------------------------\u001b[0m",
      "\u001b[1;31mNameError\u001b[0m                                 Traceback (most recent call last)",
      "Cell \u001b[1;32mIn[9], line 24\u001b[0m\n\u001b[0;32m      1\u001b[0m ROE_query \u001b[38;5;241m=\u001b[39m \u001b[38;5;124m'''\u001b[39m\n\u001b[0;32m      2\u001b[0m \u001b[38;5;124m    SELECT\u001b[39m\n\u001b[0;32m      3\u001b[0m \u001b[38;5;124m        symbol,\u001b[39m\n\u001b[1;32m   (...)\u001b[0m\n\u001b[0;32m     22\u001b[0m \u001b[38;5;124m    ) AS subquery;\u001b[39m\n\u001b[0;32m     23\u001b[0m \u001b[38;5;124m'''\u001b[39m\n\u001b[1;32m---> 24\u001b[0m ROE \u001b[38;5;241m=\u001b[39m \u001b[43mpsql\u001b[49m\u001b[38;5;241m.\u001b[39msqldf(ROE_query)\n",
      "\u001b[1;31mNameError\u001b[0m: name 'psql' is not defined"
     ]
    }
   ],
   "source": [
    "ROE_query = '''\n",
    "    SELECT\n",
    "        symbol,\n",
    "        CAST((Net_Income_2020 / Total_Equity_2020) * 100 AS DOUBLE) AS ROE_2020,\n",
    "        CAST((Net_Income_2021 / Total_Equity_2021) * 100 AS DOUBLE) AS ROE_2021,\n",
    "        CAST((Net_Income_2022 / Total_Equity_2022) * 100 AS DOUBLE) AS ROE_2022,\n",
    "        CAST((Net_Income_2023 / Total_Equity_2023) * 100 AS DOUBLE) AS ROE_2023\n",
    "    FROM (\n",
    "    -- Subquery to get Net Income and Total Equity for each year\n",
    "        SELECT\n",
    "            symbol,\n",
    "            MAX(CASE WHEN account = 'Net Income' THEN \"2020\" END) AS Net_Income_2020,\n",
    "            MAX(CASE WHEN account = 'Net Income' THEN \"2021\" END) AS Net_Income_2021,\n",
    "            MAX(CASE WHEN account = 'Net Income' THEN \"2022\" END) AS Net_Income_2022,\n",
    "            MAX(CASE WHEN account = 'Net Income' THEN \"2023\" END) AS Net_Income_2023,\n",
    "            MAX(CASE WHEN account = 'Total Equity Gross Minority Interest' THEN \"2020\" END) AS Total_Equity_2020,\n",
    "            MAX(CASE WHEN account = 'Total Equity Gross Minority Interest' THEN \"2021\" END) AS Total_Equity_2021,\n",
    "            MAX(CASE WHEN account = 'Total Equity Gross Minority Interest' THEN \"2022\" END) AS Total_Equity_2022,\n",
    "            MAX(CASE WHEN account = 'Total Equity Gross Minority Interest' THEN \"2023\" END) AS Total_Equity_2023\n",
    "        FROM df\n",
    "        GROUP BY symbol\n",
    "    ) AS subquery;\n",
    "'''\n",
    "ROE = psql.sqldf(ROE_query)"
   ]
  },
  {
   "cell_type": "code",
   "execution_count": null,
   "id": "c4640901",
   "metadata": {
    "scrolled": true
   },
   "outputs": [],
   "source": []
  },
  {
   "cell_type": "markdown",
   "id": "51331c65",
   "metadata": {},
   "source": [
    "#### 2.2.2. Retention Ratio (RR)"
   ]
  },
  {
   "cell_type": "code",
   "execution_count": null,
   "id": "dae2468c",
   "metadata": {},
   "outputs": [],
   "source": [
    "RR_query = '''\n",
    "    SELECT\n",
    "        symbol,\n",
    "        (1 - (CAST(Dividend_2020 AS DECIMAL(20, 10)) / CAST(Net_Income_2020 AS DECIMAL(20, 10)))) * 100 AS RR_2020,\n",
    "        (1 - (CAST(Dividend_2021 AS DECIMAL(20, 10)) / CAST(Net_Income_2021 AS DECIMAL(20, 10)))) * 100 AS RR_2021,\n",
    "        (1 - (CAST(Dividend_2022 AS DECIMAL(20, 10)) / CAST(Net_Income_2022 AS DECIMAL(20, 10)))) * 100 AS RR_2022,\n",
    "        (1 - (CAST(Dividend_2023 AS DECIMAL(20, 10)) / CAST(Net_Income_2023 AS DECIMAL(20, 10)))) * 100 AS RR_2023\n",
    "    FROM (\n",
    "    -- Subquery to get Net Income and Total Equity for each year\n",
    "        SELECT\n",
    "            symbol,\n",
    "            MAX(CASE WHEN account = 'Cash Dividends Paid' THEN \"2020\" END) AS Dividend_2020,\n",
    "            MAX(CASE WHEN account = 'Cash Dividends Paid' THEN \"2021\" END) AS Dividend_2021,\n",
    "            MAX(CASE WHEN account = 'Cash Dividends Paid' THEN \"2022\" END) AS Dividend_2022,\n",
    "            MAX(CASE WHEN account = 'Cash Dividends Paid' THEN \"2023\" END) AS Dividend_2023,\n",
    "            MAX(CASE WHEN account = 'Net Income' THEN \"2020\" END) AS Net_Income_2020,\n",
    "            MAX(CASE WHEN account = 'Net Income' THEN \"2021\" END) AS Net_Income_2021,\n",
    "            MAX(CASE WHEN account = 'Net Income' THEN \"2022\" END) AS Net_Income_2022,\n",
    "            MAX(CASE WHEN account = 'Net Income' THEN \"2023\" END) AS Net_Income_2023\n",
    "        FROM df\n",
    "        GROUP BY symbol\n",
    "    ) AS subquery;\n",
    "'''\n",
    "\n",
    "RR = psql.sqldf(RR_query)"
   ]
  },
  {
   "cell_type": "code",
   "execution_count": null,
   "id": "7d45d423",
   "metadata": {},
   "outputs": [],
   "source": [
    "RR.head()"
   ]
  },
  {
   "cell_type": "markdown",
   "id": "a8161fec",
   "metadata": {},
   "source": [
    "### 3. Data Preprocessing"
   ]
  },
  {
   "cell_type": "markdown",
   "id": "78830caf",
   "metadata": {},
   "source": [
    "#### 3.1. Missing Values"
   ]
  },
  {
   "cell_type": "code",
   "execution_count": null,
   "id": "080a1b56",
   "metadata": {},
   "outputs": [],
   "source": [
    "df[df.isnull().any(axis=1)].head(5)"
   ]
  },
  {
   "cell_type": "code",
   "execution_count": null,
   "id": "172cbd09",
   "metadata": {},
   "outputs": [],
   "source": [
    "# Imputing null values with zero\n",
    "df = df.fillna(0)"
   ]
  },
  {
   "cell_type": "markdown",
   "id": "d64bba29",
   "metadata": {},
   "source": [
    "#### 3.2. Skewed Distribution"
   ]
  },
  {
   "cell_type": "code",
   "execution_count": null,
   "id": "4c596c96",
   "metadata": {},
   "outputs": [],
   "source": [
    "# WIP"
   ]
  },
  {
   "cell_type": "markdown",
   "id": "da8784f3",
   "metadata": {},
   "source": [
    "#### 3.3. Outliers"
   ]
  },
  {
   "cell_type": "code",
   "execution_count": null,
   "id": "0bb1b45e",
   "metadata": {},
   "outputs": [],
   "source": [
    "# WIP"
   ]
  },
  {
   "cell_type": "markdown",
   "id": "e6d4ced5",
   "metadata": {},
   "source": [
    "### 4. Exploratory Data Analysis"
   ]
  },
  {
   "cell_type": "markdown",
   "id": "5bd73562",
   "metadata": {},
   "source": [
    "### 4.1. Target Variables"
   ]
  },
  {
   "cell_type": "code",
   "execution_count": null,
   "id": "44a7abcb",
   "metadata": {},
   "outputs": [],
   "source": [
    "# WIP\n",
    "\n",
    "# Future stock price:\n",
    "# 1 April 2021 - 1 April 2022; to predict the effect of AR 2021 (fundamental) on stock price\n",
    "# 1 April 2022 - 1 April 2023; to predict the effect of AR 2022 (fundamental) on stock price\n",
    "# 1 April 2023 - 1 April 2024; to predict the effect of AR 2023 (fundamental) on stock price\n",
    "\n",
    "# Future dividends\n",
    "\n",
    "# Future earnings"
   ]
  },
  {
   "cell_type": "markdown",
   "id": "5f3222ca",
   "metadata": {},
   "source": [
    "### 4.2. Predictor Variables"
   ]
  },
  {
   "cell_type": "code",
   "execution_count": null,
   "id": "c90e94f4",
   "metadata": {},
   "outputs": [],
   "source": [
    "ticker_symbols = df['symbol'].unique().tolist()"
   ]
  },
  {
   "cell_type": "code",
   "execution_count": null,
   "id": "01203a33",
   "metadata": {
    "scrolled": true
   },
   "outputs": [],
   "source": [
    "print(ticker_symbols)"
   ]
  },
  {
   "cell_type": "code",
   "execution_count": null,
   "id": "9535d54a",
   "metadata": {},
   "outputs": [],
   "source": [
    "accounts = df['account'].unique().tolist()"
   ]
  },
  {
   "cell_type": "code",
   "execution_count": null,
   "id": "4c71bf86",
   "metadata": {
    "scrolled": false
   },
   "outputs": [],
   "source": [
    "accounts"
   ]
  },
  {
   "cell_type": "markdown",
   "id": "c743fb28",
   "metadata": {},
   "source": [
    "### 5. Feature Selection"
   ]
  },
  {
   "cell_type": "code",
   "execution_count": null,
   "id": "4308575c",
   "metadata": {},
   "outputs": [],
   "source": [
    "# WIP"
   ]
  },
  {
   "cell_type": "markdown",
   "id": "5754d51d",
   "metadata": {},
   "source": [
    "### 6. Data Modelling"
   ]
  },
  {
   "cell_type": "code",
   "execution_count": null,
   "id": "1419031d",
   "metadata": {},
   "outputs": [],
   "source": [
    "# WIP"
   ]
  }
 ],
 "metadata": {
  "kernelspec": {
   "display_name": "Python 3 (ipykernel)",
   "language": "python",
   "name": "python3"
  },
  "language_info": {
   "codemirror_mode": {
    "name": "ipython",
    "version": 3
   },
   "file_extension": ".py",
   "mimetype": "text/x-python",
   "name": "python",
   "nbconvert_exporter": "python",
   "pygments_lexer": "ipython3",
   "version": "3.10.9"
  }
 },
 "nbformat": 4,
 "nbformat_minor": 5
}
